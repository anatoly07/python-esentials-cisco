{
  "nbformat": 4,
  "nbformat_minor": 0,
  "metadata": {
    "colab": {
      "name": "Untitled1.ipynb",
      "provenance": [],
      "authorship_tag": "ABX9TyMhRT8X+JFrOx2RvkVHEUbb",
      "include_colab_link": true
    },
    "kernelspec": {
      "name": "python3",
      "display_name": "Python 3"
    },
    "language_info": {
      "name": "python"
    }
  },
  "cells": [
    {
      "cell_type": "markdown",
      "metadata": {
        "id": "view-in-github",
        "colab_type": "text"
      },
      "source": [
        "<a href=\"https://colab.research.google.com/github/anatoly07/python-esentials-cisco/blob/main/clase29-10-2021.ipynb\" target=\"_parent\"><img src=\"https://colab.research.google.com/assets/colab-badge.svg\" alt=\"Open In Colab\"/></a>"
      ]
    },
    {
      "cell_type": "code",
      "metadata": {
        "colab": {
          "base_uri": "https://localhost:8080/"
        },
        "id": "CZ1x6a84iRmq",
        "outputId": "d9945ba6-b338-409a-e9bf-6baed374014f"
      },
      "source": [
        "a = 20\n",
        "b = 40\n",
        "c = 10\n",
        "print(a)\n",
        "print(b)\n",
        "print(c)"
      ],
      "execution_count": 1,
      "outputs": [
        {
          "output_type": "stream",
          "name": "stdout",
          "text": [
            "20\n",
            "40\n",
            "10\n"
          ]
        }
      ]
    },
    {
      "cell_type": "code",
      "metadata": {
        "colab": {
          "base_uri": "https://localhost:8080/"
        },
        "id": "CKCNG_nmikNV",
        "outputId": "7885fc0d-9016-4058-8ecd-7a14e9e21dae"
      },
      "source": [
        "a,b,c = 20,40,10\n",
        "print(a)\n",
        "print(b)\n",
        "print(c)"
      ],
      "execution_count": 2,
      "outputs": [
        {
          "output_type": "stream",
          "name": "stdout",
          "text": [
            "20\n",
            "40\n",
            "10\n"
          ]
        }
      ]
    },
    {
      "cell_type": "code",
      "metadata": {
        "colab": {
          "base_uri": "https://localhost:8080/"
        },
        "id": "nPuha8U5jmmI",
        "outputId": "1a9b73a2-1eb2-4e85-8cd4-d9d8c6494e9c"
      },
      "source": [
        "x, y, z, w = 2.71, 60, True, \"juan\"\n",
        "print(x)\n",
        "print(y)\n",
        "print(z)\n",
        "print(w)"
      ],
      "execution_count": 7,
      "outputs": [
        {
          "output_type": "stream",
          "name": "stdout",
          "text": [
            "2.71\n",
            "60\n",
            "True\n",
            "juan\n"
          ]
        }
      ]
    },
    {
      "cell_type": "code",
      "metadata": {
        "colab": {
          "base_uri": "https://localhost:8080/"
        },
        "id": "Pi6OWdeOkxAf",
        "outputId": "a9b233ac-49be-4ce1-8449-3ae4b6c80d5f"
      },
      "source": [
        "x, y, z, w = 10,20,5,15\n",
        "sum, resta, mul, divi = x+y, y-z, x*w, x/y\n",
        "print(sum,resta,mul,divi)"
      ],
      "execution_count": 9,
      "outputs": [
        {
          "output_type": "stream",
          "name": "stdout",
          "text": [
            "30 15 150 0.5\n"
          ]
        }
      ]
    },
    {
      "cell_type": "code",
      "metadata": {
        "colab": {
          "base_uri": "https://localhost:8080/"
        },
        "id": "dpgQoLRLl40u",
        "outputId": "84607bee-cfdf-4eed-f597-22fe9168b53c"
      },
      "source": [
        "p,q,r = 20,50,20\n",
        "x = p == q #primero hace la comparacion, el resultado lo asigna a x\n",
        "y = p == r \n",
        "print(x)\n",
        "print(y)\n",
        "#recomendacion verificar a priori el resultado antes de correr la app\n",
        "print(p!=q)\n",
        "print(p!=r)\n",
        "print(p>q)\n",
        "print(p>r)\n",
        "print(p>=q)\n",
        "print(p>=r)\n",
        "print(p<q)\n",
        "print(p<r)\n",
        "print(p<=q)\n",
        "print(p<=r)\n",
        "\n",
        "print((p+q)<=(p*r))"
      ],
      "execution_count": 14,
      "outputs": [
        {
          "output_type": "stream",
          "name": "stdout",
          "text": [
            "False\n",
            "True\n",
            "True\n",
            "False\n",
            "False\n",
            "False\n",
            "False\n",
            "True\n",
            "True\n",
            "False\n",
            "True\n",
            "True\n",
            "True\n"
          ]
        }
      ]
    },
    {
      "cell_type": "code",
      "metadata": {
        "colab": {
          "base_uri": "https://localhost:8080/"
        },
        "id": "5CgDeYChqEuE",
        "outputId": "dc464857-3edc-4a8b-821f-e6d229e018c5"
      },
      "source": [
        "#hostname = 'PTS'\n",
        "hostname = 'SRC'\n",
        "print('inicio')\n",
        "if hostname == 'PTS':\n",
        "  print('hola')\n",
        "  print('Es el hostname de la ciudad de Potosi')\n",
        "  print(':)')\n",
        "print('Fin')\n",
        "\n",
        "#python toma en cuenta la identacion, solo a traves del tabulador, no espacios"
      ],
      "execution_count": 17,
      "outputs": [
        {
          "output_type": "stream",
          "name": "stdout",
          "text": [
            "inicio\n",
            "Fin\n"
          ]
        }
      ]
    },
    {
      "cell_type": "code",
      "metadata": {
        "colab": {
          "base_uri": "https://localhost:8080/"
        },
        "id": "OATwGy7MtUgh",
        "outputId": "0d48662e-efb0-468c-a9c3-86b816ffedad"
      },
      "source": [
        "x = 10\n",
        "if x == 10:\n",
        "  print(x == 10)\n",
        "if x > 5:\n",
        "  print(x > 5)\n",
        "if x < 10:\n",
        "  print(x < 10)\n",
        "else:\n",
        "  print(\"else\")"
      ],
      "execution_count": 18,
      "outputs": [
        {
          "output_type": "stream",
          "name": "stdout",
          "text": [
            "True\n",
            "True\n",
            "else\n"
          ]
        }
      ]
    },
    {
      "cell_type": "code",
      "metadata": {
        "id": "zjwuspvAuXAf"
      },
      "source": [
        "if condicion_logica:\n",
        "  instruccion1\n",
        "  ....\n",
        "else:\n",
        "  instruccion1\n",
        "  ...."
      ],
      "execution_count": null,
      "outputs": []
    },
    {
      "cell_type": "code",
      "metadata": {
        "colab": {
          "base_uri": "https://localhost:8080/"
        },
        "id": "fnD-jwIRug-X",
        "outputId": "b1ea99c1-1f6c-472a-e9a0-ca7182a0fa19"
      },
      "source": [
        "x = int(input(\"Digite un numero x: \"))\n",
        "y = int(input(\"Digite un numero y: \"))\n",
        "if x > y:\n",
        "  print(x,\" es mayor que \",y)\n",
        "else: #jump, el salto\n",
        "  print(y,\" es mayor que \",x)\n",
        "print('Fin')  "
      ],
      "execution_count": 20,
      "outputs": [
        {
          "output_type": "stream",
          "name": "stdout",
          "text": [
            "Digite un numero x: 10\n",
            "Digite un numero y: 5\n",
            "10  es mayor que  5\n",
            "Fin\n"
          ]
        }
      ]
    },
    {
      "cell_type": "code",
      "metadata": {
        "colab": {
          "base_uri": "https://localhost:8080/"
        },
        "id": "rEpdAl-DwZeA",
        "outputId": "13a094ca-7e10-483a-e75e-0a807aae7b76"
      },
      "source": [
        "hostname = 'SRC'\n",
        "if hostname == 'SRC':\n",
        "  sw = 'SW1'\n",
        "  if sw == 'SW1':\n",
        "    print('Router SRC contiene al SW1')\n",
        "  else:\n",
        "    print('Router SRC tiene otro SW')\n",
        "else:\n",
        "  sw = 'PS1SW1'\n",
        "  if sw == 'PS1SW1':\n",
        "    print('El router de PTS en su edificio A tiene el SW PS1SW1')\n",
        "  else:\n",
        "    print('El router de PTS tiene un SW malo')\n",
        "print('Fin')    "
      ],
      "execution_count": 21,
      "outputs": [
        {
          "output_type": "stream",
          "name": "stdout",
          "text": [
            "Router SRC contiene al SW1\n",
            "Fin\n"
          ]
        }
      ]
    },
    {
      "cell_type": "code",
      "metadata": {
        "colab": {
          "base_uri": "https://localhost:8080/"
        },
        "id": "DVXNc-QnzkxN",
        "outputId": "bdb6cbb9-0f0b-4886-ca38-c04ad93e4bbe"
      },
      "source": [
        "hostname = 'CBA'\n",
        "if hostname == 'TRJ':\n",
        "  print('Viva la chura Tarija')\n",
        "elif hostname == 'LPZ':\n",
        "  print('La Paz')\n",
        "else:\n",
        "  print('Desconocido')\n"
      ],
      "execution_count": 28,
      "outputs": [
        {
          "output_type": "stream",
          "name": "stdout",
          "text": [
            "Desconocido\n"
          ]
        }
      ]
    },
    {
      "cell_type": "code",
      "metadata": {
        "colab": {
          "base_uri": "https://localhost:8080/"
        },
        "id": "7RQp-7Q003hk",
        "outputId": "020b15ff-51a5-42d7-d865-5774c0ccee23"
      },
      "source": [
        "x = \"1\"\n",
        "if x == 1:\n",
        "  print(\"uno\")\n",
        "elif x == \"1\":\n",
        "  if int(x) > 1:\n",
        "    print(\"dos\")\n",
        "  elif int(x) < 1:\n",
        "    print(\"tres\")\n",
        "  else:\n",
        "    print(\"cuatro\")\n",
        "if int(x) == 1:\n",
        "  print(\"cinco\")\n",
        "else:\n",
        "  print(\"seis\")"
      ],
      "execution_count": 30,
      "outputs": [
        {
          "output_type": "stream",
          "name": "stdout",
          "text": [
            "cuatro\n",
            "cinco\n"
          ]
        }
      ]
    },
    {
      "cell_type": "code",
      "metadata": {
        "colab": {
          "base_uri": "https://localhost:8080/"
        },
        "id": "un2pfjUd2KRt",
        "outputId": "97a5c460-ca83-4683-f1d6-24f4504283a7"
      },
      "source": [
        "cont = 1\n",
        "while cont < 10:\n",
        "  print(cont)\n",
        "  #cont = cont + 1\n",
        "  cont+=1\n",
        "print('Fin')"
      ],
      "execution_count": 35,
      "outputs": [
        {
          "output_type": "stream",
          "name": "stdout",
          "text": [
            "1\n",
            "2\n",
            "3\n",
            "4\n",
            "5\n",
            "6\n",
            "7\n",
            "8\n",
            "9\n",
            "Fin\n"
          ]
        }
      ]
    },
    {
      "cell_type": "code",
      "metadata": {
        "colab": {
          "base_uri": "https://localhost:8080/"
        },
        "id": "b7dWdUPv4H_S",
        "outputId": "4e519a60-89c4-401e-bcae-88967eeb5033"
      },
      "source": [
        "cont = 10\n",
        "while cont != 0:\n",
        "  print(cont)\n",
        "  cont-=1\n",
        "print('Fin')  "
      ],
      "execution_count": 37,
      "outputs": [
        {
          "output_type": "stream",
          "name": "stdout",
          "text": [
            "10\n",
            "9\n",
            "8\n",
            "7\n",
            "6\n",
            "5\n",
            "4\n",
            "3\n",
            "2\n",
            "1\n",
            "Fin\n"
          ]
        }
      ]
    },
    {
      "cell_type": "code",
      "metadata": {
        "id": "RQ4Rn_cO49jq"
      },
      "source": [
        "x = 1\n",
        "while x == 'a':\n",
        "  print('A')\n",
        "#formar un bucle infinito"
      ],
      "execution_count": 41,
      "outputs": []
    },
    {
      "cell_type": "code",
      "metadata": {
        "id": "ir-LPWNF5ZWf"
      },
      "source": [
        "while true:\n",
        "  print('H')"
      ],
      "execution_count": null,
      "outputs": []
    },
    {
      "cell_type": "code",
      "metadata": {
        "colab": {
          "base_uri": "https://localhost:8080/"
        },
        "id": "oKQdAkw45-zA",
        "outputId": "f1572c6b-0d59-422c-e9d1-61b01492cd7f"
      },
      "source": [
        "for i in range(5):\n",
        "  print(i)"
      ],
      "execution_count": 46,
      "outputs": [
        {
          "output_type": "stream",
          "name": "stdout",
          "text": [
            "0\n",
            "1\n",
            "2\n",
            "3\n",
            "4\n"
          ]
        }
      ]
    },
    {
      "cell_type": "code",
      "metadata": {
        "colab": {
          "base_uri": "https://localhost:8080/"
        },
        "id": "BzT_NZKR6WFH",
        "outputId": "027e5933-4a3f-4747-9bdd-0715ad1b1445"
      },
      "source": [
        "for i in range(0, 5): #no se incluye al ultimo, si quiero hasta el 5 tengo que anotar hasta el 6\n",
        "  print(i)"
      ],
      "execution_count": 47,
      "outputs": [
        {
          "output_type": "stream",
          "name": "stdout",
          "text": [
            "0\n",
            "1\n",
            "2\n",
            "3\n",
            "4\n"
          ]
        }
      ]
    },
    {
      "cell_type": "code",
      "metadata": {
        "colab": {
          "base_uri": "https://localhost:8080/"
        },
        "id": "WGa7LsjQ6rUH",
        "outputId": "5c403559-c345-425a-f0d2-ff3229f2855f"
      },
      "source": [
        "for i in range(0,5,2): # el dos es un incremento\n",
        "  print(i)"
      ],
      "execution_count": 48,
      "outputs": [
        {
          "output_type": "stream",
          "name": "stdout",
          "text": [
            "0\n",
            "2\n",
            "4\n"
          ]
        }
      ]
    }
  ]
}