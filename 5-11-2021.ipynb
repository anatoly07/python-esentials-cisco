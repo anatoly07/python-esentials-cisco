{
  "nbformat": 4,
  "nbformat_minor": 0,
  "metadata": {
    "colab": {
      "name": "Untitled3.ipynb",
      "provenance": [],
      "authorship_tag": "ABX9TyM1VHny0rL7kf7plW63BTy2",
      "include_colab_link": true
    },
    "kernelspec": {
      "name": "python3",
      "display_name": "Python 3"
    },
    "language_info": {
      "name": "python"
    }
  },
  "cells": [
    {
      "cell_type": "markdown",
      "metadata": {
        "id": "view-in-github",
        "colab_type": "text"
      },
      "source": [
        "<a href=\"https://colab.research.google.com/github/anatoly07/python-esentials-cisco/blob/main/5-11-2021.ipynb\" target=\"_parent\"><img src=\"https://colab.research.google.com/assets/colab-badge.svg\" alt=\"Open In Colab\"/></a>"
      ]
    },
    {
      "cell_type": "code",
      "metadata": {
        "colab": {
          "base_uri": "https://localhost:8080/"
        },
        "id": "mKFpcOCxmCiC",
        "outputId": "3529b436-a7ff-4fa4-97fa-7ee8e33a272e"
      },
      "source": [
        "#rodajas\n",
        "lista = [47,67,21,45,22]\n",
        "nlista = lista[1:-1]\n",
        "nlista2 = lista[-1:1]\n",
        "print(lista)\n",
        "print(nlista)\n",
        "print(nlista2)"
      ],
      "execution_count": null,
      "outputs": [
        {
          "output_type": "stream",
          "name": "stdout",
          "text": [
            "[47, 67, 21, 45, 22]\n",
            "[67, 21, 45]\n",
            "[]\n"
          ]
        }
      ]
    },
    {
      "cell_type": "code",
      "metadata": {
        "colab": {
          "base_uri": "https://localhost:8080/"
        },
        "id": "sy0P90aymyvb",
        "outputId": "e772a80a-8822-4c6c-9e32-9c396161d588"
      },
      "source": [
        "lista = [4,6,1,14,2,8,12,5]\n",
        "print(1 in lista)\n",
        "print(25 in lista)\n",
        "print(14 not in lista)\n",
        "print(8 not in lista)\n",
        "print(100 not in lista)"
      ],
      "execution_count": 7,
      "outputs": [
        {
          "output_type": "stream",
          "name": "stdout",
          "text": [
            "True\n",
            "False\n",
            "False\n",
            "False\n",
            "True\n"
          ]
        }
      ]
    },
    {
      "cell_type": "code",
      "metadata": {
        "colab": {
          "base_uri": "https://localhost:8080/"
        },
        "id": "vWbOuaaOoGi1",
        "outputId": "67037840-fe52-49b7-e2a1-17e3ada260b5"
      },
      "source": [
        "#generacion de listas\n",
        "for i in range (15):\n",
        "  print(i**3)\n",
        "listagen = [i**3 for i in range(15)]\n",
        "print(listagen)"
      ],
      "execution_count": 14,
      "outputs": [
        {
          "output_type": "stream",
          "name": "stdout",
          "text": [
            "0\n",
            "1\n",
            "8\n",
            "27\n",
            "64\n",
            "125\n",
            "216\n",
            "343\n",
            "512\n",
            "729\n",
            "1000\n",
            "1331\n",
            "1728\n",
            "2197\n",
            "2744\n",
            "[0, 1, 8, 27, 64, 125, 216, 343, 512, 729, 1000, 1331, 1728, 2197, 2744]\n"
          ]
        }
      ]
    },
    {
      "cell_type": "code",
      "metadata": {
        "colab": {
          "base_uri": "https://localhost:8080/"
        },
        "id": "xjGdFRn1nMwi",
        "outputId": "96b146c5-d175-478f-cb4e-79b51802e0a9"
      },
      "source": [
        "for i in range(15):\n",
        "  print(2**i)\n",
        "lista = [2**i for i in range(15)]\n",
        "print(lista)"
      ],
      "execution_count": 17,
      "outputs": [
        {
          "output_type": "stream",
          "name": "stdout",
          "text": [
            "1\n",
            "2\n",
            "4\n",
            "8\n",
            "16\n",
            "32\n",
            "64\n",
            "128\n",
            "256\n",
            "512\n",
            "1024\n",
            "2048\n",
            "4096\n",
            "8192\n",
            "16384\n",
            "[1, 2, 4, 8, 16, 32, 64, 128, 256, 512, 1024, 2048, 4096, 8192, 16384]\n"
          ]
        }
      ]
    },
    {
      "cell_type": "code",
      "metadata": {
        "colab": {
          "base_uri": "https://localhost:8080/"
        },
        "id": "e8d-BMpFqpT6",
        "outputId": "07cc6b5a-136b-492d-b9e2-5f591e82ccbb"
      },
      "source": [
        "for i in range(21):\n",
        "  if i%2 == 0:\n",
        "    print(i**2)\n",
        "lista = [i**2 for i in range(21) if i%2==0]\n",
        "print(lista)"
      ],
      "execution_count": 23,
      "outputs": [
        {
          "output_type": "stream",
          "name": "stdout",
          "text": [
            "0\n",
            "4\n",
            "16\n",
            "36\n",
            "64\n",
            "100\n",
            "144\n",
            "196\n",
            "256\n",
            "324\n",
            "400\n",
            "[0, 4, 16, 36, 64, 100, 144, 196, 256, 324, 400]\n"
          ]
        }
      ]
    },
    {
      "cell_type": "code",
      "metadata": {
        "colab": {
          "base_uri": "https://localhost:8080/"
        },
        "id": "oztz0vk1r_G_",
        "outputId": "bfe80986-b4ce-4088-beca-63527c0b23ff"
      },
      "source": [
        "num = [1,2,3,4]\n",
        "for n in num:\n",
        "  if n<=3:\n",
        "    print(n - 1)\n",
        "lista = [n-1 for n in num if n <= 3]\n",
        "print(lista)"
      ],
      "execution_count": 27,
      "outputs": [
        {
          "output_type": "stream",
          "name": "stdout",
          "text": [
            "0\n",
            "1\n",
            "2\n",
            "[0, 1, 2]\n"
          ]
        }
      ]
    },
    {
      "cell_type": "code",
      "metadata": {
        "colab": {
          "base_uri": "https://localhost:8080/"
        },
        "id": "C1Duob5Ls5hX",
        "outputId": "5c6746fa-2d9e-4425-9b59-835281f300a9"
      },
      "source": [
        "#arreglos bidimensionales\n",
        "matriz = [[3, 5, 1, 3, 6, 1], [1], [23, 67, 12, 89, 12], [200, 500]]\n",
        "for i in range(len(matriz)):\n",
        "  for j in range(len(matriz[i])):\n",
        "    print(matriz[i][j], end=',')\n",
        "  print()\n"
      ],
      "execution_count": 36,
      "outputs": [
        {
          "output_type": "stream",
          "name": "stdout",
          "text": [
            "3,5,1,3,6,1,\n",
            "1,\n",
            "23,67,12,89,12,\n",
            "200,500,\n"
          ]
        }
      ]
    },
    {
      "cell_type": "code",
      "metadata": {
        "colab": {
          "base_uri": "https://localhost:8080/"
        },
        "id": "WqQ-PGHuvu0-",
        "outputId": "72892f1e-63a6-4e17-d8c6-f7f1f509b4a6"
      },
      "source": [
        "matriz = []\n",
        "x = 10\n",
        "for i in range(10):\n",
        "  fil = [x for i in range(10)]\n",
        "  matriz.append(fil)\n",
        "print(matriz)"
      ],
      "execution_count": 39,
      "outputs": [
        {
          "output_type": "stream",
          "name": "stdout",
          "text": [
            "[[10, 10, 10, 10, 10, 10, 10, 10, 10, 10], [10, 10, 10, 10, 10, 10, 10, 10, 10, 10], [10, 10, 10, 10, 10, 10, 10, 10, 10, 10], [10, 10, 10, 10, 10, 10, 10, 10, 10, 10], [10, 10, 10, 10, 10, 10, 10, 10, 10, 10], [10, 10, 10, 10, 10, 10, 10, 10, 10, 10], [10, 10, 10, 10, 10, 10, 10, 10, 10, 10], [10, 10, 10, 10, 10, 10, 10, 10, 10, 10], [10, 10, 10, 10, 10, 10, 10, 10, 10, 10], [10, 10, 10, 10, 10, 10, 10, 10, 10, 10]]\n"
          ]
        }
      ]
    },
    {
      "cell_type": "code",
      "metadata": {
        "colab": {
          "base_uri": "https://localhost:8080/"
        },
        "id": "oQ08ToyhwuTT",
        "outputId": "8378a5db-7870-462a-a3ad-4cbdfc51e542"
      },
      "source": [
        "#entra al examen segun el velasquez\n",
        "temps = [[0.0 for h in range(24)] for d in range(31)]\n",
        "print(temps)"
      ],
      "execution_count": 40,
      "outputs": [
        {
          "output_type": "stream",
          "name": "stdout",
          "text": [
            "[[0.0, 0.0, 0.0, 0.0, 0.0, 0.0, 0.0, 0.0, 0.0, 0.0, 0.0, 0.0, 0.0, 0.0, 0.0, 0.0, 0.0, 0.0, 0.0, 0.0, 0.0, 0.0, 0.0, 0.0], [0.0, 0.0, 0.0, 0.0, 0.0, 0.0, 0.0, 0.0, 0.0, 0.0, 0.0, 0.0, 0.0, 0.0, 0.0, 0.0, 0.0, 0.0, 0.0, 0.0, 0.0, 0.0, 0.0, 0.0], [0.0, 0.0, 0.0, 0.0, 0.0, 0.0, 0.0, 0.0, 0.0, 0.0, 0.0, 0.0, 0.0, 0.0, 0.0, 0.0, 0.0, 0.0, 0.0, 0.0, 0.0, 0.0, 0.0, 0.0], [0.0, 0.0, 0.0, 0.0, 0.0, 0.0, 0.0, 0.0, 0.0, 0.0, 0.0, 0.0, 0.0, 0.0, 0.0, 0.0, 0.0, 0.0, 0.0, 0.0, 0.0, 0.0, 0.0, 0.0], [0.0, 0.0, 0.0, 0.0, 0.0, 0.0, 0.0, 0.0, 0.0, 0.0, 0.0, 0.0, 0.0, 0.0, 0.0, 0.0, 0.0, 0.0, 0.0, 0.0, 0.0, 0.0, 0.0, 0.0], [0.0, 0.0, 0.0, 0.0, 0.0, 0.0, 0.0, 0.0, 0.0, 0.0, 0.0, 0.0, 0.0, 0.0, 0.0, 0.0, 0.0, 0.0, 0.0, 0.0, 0.0, 0.0, 0.0, 0.0], [0.0, 0.0, 0.0, 0.0, 0.0, 0.0, 0.0, 0.0, 0.0, 0.0, 0.0, 0.0, 0.0, 0.0, 0.0, 0.0, 0.0, 0.0, 0.0, 0.0, 0.0, 0.0, 0.0, 0.0], [0.0, 0.0, 0.0, 0.0, 0.0, 0.0, 0.0, 0.0, 0.0, 0.0, 0.0, 0.0, 0.0, 0.0, 0.0, 0.0, 0.0, 0.0, 0.0, 0.0, 0.0, 0.0, 0.0, 0.0], [0.0, 0.0, 0.0, 0.0, 0.0, 0.0, 0.0, 0.0, 0.0, 0.0, 0.0, 0.0, 0.0, 0.0, 0.0, 0.0, 0.0, 0.0, 0.0, 0.0, 0.0, 0.0, 0.0, 0.0], [0.0, 0.0, 0.0, 0.0, 0.0, 0.0, 0.0, 0.0, 0.0, 0.0, 0.0, 0.0, 0.0, 0.0, 0.0, 0.0, 0.0, 0.0, 0.0, 0.0, 0.0, 0.0, 0.0, 0.0], [0.0, 0.0, 0.0, 0.0, 0.0, 0.0, 0.0, 0.0, 0.0, 0.0, 0.0, 0.0, 0.0, 0.0, 0.0, 0.0, 0.0, 0.0, 0.0, 0.0, 0.0, 0.0, 0.0, 0.0], [0.0, 0.0, 0.0, 0.0, 0.0, 0.0, 0.0, 0.0, 0.0, 0.0, 0.0, 0.0, 0.0, 0.0, 0.0, 0.0, 0.0, 0.0, 0.0, 0.0, 0.0, 0.0, 0.0, 0.0], [0.0, 0.0, 0.0, 0.0, 0.0, 0.0, 0.0, 0.0, 0.0, 0.0, 0.0, 0.0, 0.0, 0.0, 0.0, 0.0, 0.0, 0.0, 0.0, 0.0, 0.0, 0.0, 0.0, 0.0], [0.0, 0.0, 0.0, 0.0, 0.0, 0.0, 0.0, 0.0, 0.0, 0.0, 0.0, 0.0, 0.0, 0.0, 0.0, 0.0, 0.0, 0.0, 0.0, 0.0, 0.0, 0.0, 0.0, 0.0], [0.0, 0.0, 0.0, 0.0, 0.0, 0.0, 0.0, 0.0, 0.0, 0.0, 0.0, 0.0, 0.0, 0.0, 0.0, 0.0, 0.0, 0.0, 0.0, 0.0, 0.0, 0.0, 0.0, 0.0], [0.0, 0.0, 0.0, 0.0, 0.0, 0.0, 0.0, 0.0, 0.0, 0.0, 0.0, 0.0, 0.0, 0.0, 0.0, 0.0, 0.0, 0.0, 0.0, 0.0, 0.0, 0.0, 0.0, 0.0], [0.0, 0.0, 0.0, 0.0, 0.0, 0.0, 0.0, 0.0, 0.0, 0.0, 0.0, 0.0, 0.0, 0.0, 0.0, 0.0, 0.0, 0.0, 0.0, 0.0, 0.0, 0.0, 0.0, 0.0], [0.0, 0.0, 0.0, 0.0, 0.0, 0.0, 0.0, 0.0, 0.0, 0.0, 0.0, 0.0, 0.0, 0.0, 0.0, 0.0, 0.0, 0.0, 0.0, 0.0, 0.0, 0.0, 0.0, 0.0], [0.0, 0.0, 0.0, 0.0, 0.0, 0.0, 0.0, 0.0, 0.0, 0.0, 0.0, 0.0, 0.0, 0.0, 0.0, 0.0, 0.0, 0.0, 0.0, 0.0, 0.0, 0.0, 0.0, 0.0], [0.0, 0.0, 0.0, 0.0, 0.0, 0.0, 0.0, 0.0, 0.0, 0.0, 0.0, 0.0, 0.0, 0.0, 0.0, 0.0, 0.0, 0.0, 0.0, 0.0, 0.0, 0.0, 0.0, 0.0], [0.0, 0.0, 0.0, 0.0, 0.0, 0.0, 0.0, 0.0, 0.0, 0.0, 0.0, 0.0, 0.0, 0.0, 0.0, 0.0, 0.0, 0.0, 0.0, 0.0, 0.0, 0.0, 0.0, 0.0], [0.0, 0.0, 0.0, 0.0, 0.0, 0.0, 0.0, 0.0, 0.0, 0.0, 0.0, 0.0, 0.0, 0.0, 0.0, 0.0, 0.0, 0.0, 0.0, 0.0, 0.0, 0.0, 0.0, 0.0], [0.0, 0.0, 0.0, 0.0, 0.0, 0.0, 0.0, 0.0, 0.0, 0.0, 0.0, 0.0, 0.0, 0.0, 0.0, 0.0, 0.0, 0.0, 0.0, 0.0, 0.0, 0.0, 0.0, 0.0], [0.0, 0.0, 0.0, 0.0, 0.0, 0.0, 0.0, 0.0, 0.0, 0.0, 0.0, 0.0, 0.0, 0.0, 0.0, 0.0, 0.0, 0.0, 0.0, 0.0, 0.0, 0.0, 0.0, 0.0], [0.0, 0.0, 0.0, 0.0, 0.0, 0.0, 0.0, 0.0, 0.0, 0.0, 0.0, 0.0, 0.0, 0.0, 0.0, 0.0, 0.0, 0.0, 0.0, 0.0, 0.0, 0.0, 0.0, 0.0], [0.0, 0.0, 0.0, 0.0, 0.0, 0.0, 0.0, 0.0, 0.0, 0.0, 0.0, 0.0, 0.0, 0.0, 0.0, 0.0, 0.0, 0.0, 0.0, 0.0, 0.0, 0.0, 0.0, 0.0], [0.0, 0.0, 0.0, 0.0, 0.0, 0.0, 0.0, 0.0, 0.0, 0.0, 0.0, 0.0, 0.0, 0.0, 0.0, 0.0, 0.0, 0.0, 0.0, 0.0, 0.0, 0.0, 0.0, 0.0], [0.0, 0.0, 0.0, 0.0, 0.0, 0.0, 0.0, 0.0, 0.0, 0.0, 0.0, 0.0, 0.0, 0.0, 0.0, 0.0, 0.0, 0.0, 0.0, 0.0, 0.0, 0.0, 0.0, 0.0], [0.0, 0.0, 0.0, 0.0, 0.0, 0.0, 0.0, 0.0, 0.0, 0.0, 0.0, 0.0, 0.0, 0.0, 0.0, 0.0, 0.0, 0.0, 0.0, 0.0, 0.0, 0.0, 0.0, 0.0], [0.0, 0.0, 0.0, 0.0, 0.0, 0.0, 0.0, 0.0, 0.0, 0.0, 0.0, 0.0, 0.0, 0.0, 0.0, 0.0, 0.0, 0.0, 0.0, 0.0, 0.0, 0.0, 0.0, 0.0], [0.0, 0.0, 0.0, 0.0, 0.0, 0.0, 0.0, 0.0, 0.0, 0.0, 0.0, 0.0, 0.0, 0.0, 0.0, 0.0, 0.0, 0.0, 0.0, 0.0, 0.0, 0.0, 0.0, 0.0]]\n"
          ]
        }
      ]
    },
    {
      "cell_type": "code",
      "metadata": {
        "colab": {
          "base_uri": "https://localhost:8080/"
        },
        "id": "Hm-1q2GkyF5T",
        "outputId": "8117dd45-3108-4737-c6b4-c28e328446f6"
      },
      "source": [
        "#TEMA 4\n",
        "#las funciones se crean en la parte superior y se las aplica en la parte inferior\n",
        "#tomar en cuenta los saltos de direccion de memoria\n",
        "def saludo():\n",
        "  print('Hola Mundo!!!')\n",
        "  for i in range(1,11):\n",
        "    print(i**2)\n",
        "\n",
        "print('Inicio')\n",
        "saludo()\n",
        "print('Fin')\n"
      ],
      "execution_count": 42,
      "outputs": [
        {
          "output_type": "stream",
          "name": "stdout",
          "text": [
            "Inicio\n",
            "Hola Mundo!!!\n",
            "1\n",
            "4\n",
            "9\n",
            "16\n",
            "25\n",
            "36\n",
            "49\n",
            "64\n",
            "81\n",
            "100\n",
            "Fin\n"
          ]
        }
      ]
    },
    {
      "cell_type": "code",
      "metadata": {
        "colab": {
          "base_uri": "https://localhost:8080/"
        },
        "id": "654jAd6Fz1L3",
        "outputId": "f1326d45-3203-4692-c1a1-407893b0268a"
      },
      "source": [
        "def mensaje(nombre):\n",
        "  print('Hola ' + nombre)\n",
        "\n",
        "mensaje('Perri')\n",
        "mensaje('Carlos')\n",
        "mensaje('Mon')"
      ],
      "execution_count": 44,
      "outputs": [
        {
          "output_type": "stream",
          "name": "stdout",
          "text": [
            "Hola Perri\n",
            "Hola Carlos\n",
            "Hola Mon\n"
          ]
        }
      ]
    },
    {
      "cell_type": "code",
      "metadata": {
        "colab": {
          "base_uri": "https://localhost:8080/"
        },
        "id": "Y7-njf-d0mKw",
        "outputId": "a5424d1c-86b3-4e3b-f6e5-81d07c5aa0ca"
      },
      "source": [
        "#paso de argumentos por palabra clave\n",
        "def producto(x,y,z):\n",
        "  print('El producto es: ', x*y*z)\n",
        "\n",
        "producto(1,2,3)\n",
        "producto(x=10,y=20,z=30)\n",
        "producto(z=12,x=34,y=10)\n",
        "producto(33,y=1,z=34)\n",
        "producto(33,z=1,y=34)"
      ],
      "execution_count": 52,
      "outputs": [
        {
          "output_type": "stream",
          "name": "stdout",
          "text": [
            "El producto es:  6\n",
            "El producto es:  6000\n",
            "El producto es:  4080\n",
            "El producto es:  1122\n",
            "El producto es:  1122\n"
          ]
        }
      ]
    },
    {
      "cell_type": "code",
      "metadata": {
        "colab": {
          "base_uri": "https://localhost:8080/"
        },
        "id": "kgClgM-L2yBc",
        "outputId": "2be572f5-7c5a-49c6-a431-2181fe66cb54"
      },
      "source": [
        "#valores por defecto\n",
        "def suma(x=10, y=20, z=100):\n",
        "  print('La suma es: ', x+y+z)\n",
        "suma()\n",
        "suma(1)\n",
        "suma(2,3)\n",
        "suma(1,2,3)\n",
        "suma(y=-10)"
      ],
      "execution_count": 60,
      "outputs": [
        {
          "output_type": "stream",
          "name": "stdout",
          "text": [
            "La suma es:  130\n",
            "La suma es:  121\n",
            "La suma es:  105\n",
            "La suma es:  6\n",
            "La suma es:  100\n"
          ]
        }
      ]
    },
    {
      "cell_type": "code",
      "metadata": {
        "colab": {
          "base_uri": "https://localhost:8080/"
        },
        "id": "oCYj5IrO39Wn",
        "outputId": "c5ea98ce-cd22-4928-b80d-1139b8b43b12"
      },
      "source": [
        "def ipMask(ip='192.168.1.1', mask='255.255.255.0'):\n",
        "  print('Ip address: ',ip,mask)\n",
        "\n",
        "ipMask()\n",
        "ipMask('192.168.1.10')\n",
        "ipMask('192.168.1.20', '255.255.255.252')\n",
        "ipMask(mask='255.255.0.0')"
      ],
      "execution_count": 61,
      "outputs": [
        {
          "output_type": "stream",
          "name": "stdout",
          "text": [
            "Ip address:  192.168.1.1 255.255.255.0\n",
            "Ip address:  192.168.1.10 255.255.255.0\n",
            "Ip address:  192.168.1.20 255.255.255.252\n",
            "Ip address:  192.168.1.1 255.255.0.0\n"
          ]
        }
      ]
    },
    {
      "cell_type": "code",
      "metadata": {
        "colab": {
          "base_uri": "https://localhost:8080/"
        },
        "id": "OL7Crv6S5MlQ",
        "outputId": "ab93f20b-04ef-47eb-865a-9a42c3dad426"
      },
      "source": [
        "#funciones con return\n",
        "def valor(x):\n",
        "  print('Llego el valor de: ', x)\n",
        "  return x*x\n",
        "\n",
        "def potencia(base, exponente):\n",
        "  return base**exponente\n",
        "\n",
        "y = valor(5)\n",
        "print(y)\n",
        "\n",
        "pot=potencia(2,3)\n",
        "print('La potencia es:',pot)"
      ],
      "execution_count": 68,
      "outputs": [
        {
          "output_type": "stream",
          "name": "stdout",
          "text": [
            "Llego el valor de:  5\n",
            "25\n",
            "La potencia es: 8\n"
          ]
        }
      ]
    },
    {
      "cell_type": "code",
      "metadata": {
        "colab": {
          "base_uri": "https://localhost:8080/"
        },
        "id": "HnV2dqe26-_I",
        "outputId": "a809ab51-fb58-473a-b248-d4e9a595e79c"
      },
      "source": [
        "def productoria(lista):\n",
        "  p = 1\n",
        "  for prod in lista:\n",
        "    p *= prod\n",
        "  return p\n",
        "\n",
        "listado = [4,6,1,2,8]\n",
        "resultado = productoria(listado)\n",
        "print(resultado)"
      ],
      "execution_count": 71,
      "outputs": [
        {
          "output_type": "stream",
          "name": "stdout",
          "text": [
            "384\n"
          ]
        }
      ]
    },
    {
      "cell_type": "code",
      "metadata": {
        "colab": {
          "base_uri": "https://localhost:8080/"
        },
        "id": "I5avl8q08gA3",
        "outputId": "b378a3b1-d6c6-4afd-b38d-fd442f3198d2"
      },
      "source": [
        "#scopes, alcances de variables en una funcion\n",
        "#una variable definida fuera de una funcion tiene alcande dentro de ella,\n",
        "#excepto cuando dentro de la #funcion haya una variable con el mismo nombre\n",
        "\n",
        "def alcance():\n",
        "  print('Esta es la variable', var)\n",
        "var = 100\n",
        "alcance()\n",
        "print(var)\n",
        "\n",
        "def alcance2():\n",
        "  var = 10\n",
        "  print('Esta es la variable', var)\n",
        "alcance2()"
      ],
      "execution_count": 74,
      "outputs": [
        {
          "output_type": "stream",
          "name": "stdout",
          "text": [
            "Esta es la variable 100\n",
            "100\n",
            "Esta es la variable 10\n"
          ]
        }
      ]
    },
    {
      "cell_type": "code",
      "metadata": {
        "colab": {
          "base_uri": "https://localhost:8080/"
        },
        "id": "GShTy18z-dvj",
        "outputId": "71646593-20b6-45f8-d172-1257b0bfeade"
      },
      "source": [
        "def alcance():\n",
        "  var = 500\n",
        "  print('Esta es la variable', var)\n",
        "\n",
        "var = 100\n",
        "alcance()\n",
        "print(var)"
      ],
      "execution_count": 75,
      "outputs": [
        {
          "output_type": "stream",
          "name": "stdout",
          "text": [
            "Esta es la variable 500\n",
            "100\n"
          ]
        }
      ]
    },
    {
      "cell_type": "code",
      "metadata": {
        "colab": {
          "base_uri": "https://localhost:8080/"
        },
        "id": "gQ7gCiMJ-t9E",
        "outputId": "4d3ed96b-5d2c-47cf-b15b-b2ec944b9e51"
      },
      "source": [
        "#global, alcances globales, scopes\n",
        "def alcance():\n",
        "  global var\n",
        "  var = 123\n",
        "  print(id(var)) #id sirve para imprimir la direccion de memoria\n",
        "  print('Aqui:', var)\n",
        "\n",
        "var = 350\n",
        "print(id(var))\n",
        "alcance()\n",
        "print(id(var))\n",
        "print(var)"
      ],
      "execution_count": 80,
      "outputs": [
        {
          "output_type": "stream",
          "name": "stdout",
          "text": [
            "140204369337552\n",
            "94921125484864\n",
            "Aqui: 123\n",
            "94921125484864\n",
            "123\n"
          ]
        }
      ]
    }
  ]
}