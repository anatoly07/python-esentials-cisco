{
  "nbformat": 4,
  "nbformat_minor": 0,
  "metadata": {
    "colab": {
      "name": "Untitled2.ipynb",
      "provenance": [],
      "authorship_tag": "ABX9TyOHtnK9VqGbkJzdQ23YhQ/2",
      "include_colab_link": true
    },
    "kernelspec": {
      "name": "python3",
      "display_name": "Python 3"
    },
    "language_info": {
      "name": "python"
    }
  },
  "cells": [
    {
      "cell_type": "markdown",
      "metadata": {
        "id": "view-in-github",
        "colab_type": "text"
      },
      "source": [
        "<a href=\"https://colab.research.google.com/github/anatoly07/python-esentials-cisco/blob/main/3-11-2021.ipynb\" target=\"_parent\"><img src=\"https://colab.research.google.com/assets/colab-badge.svg\" alt=\"Open In Colab\"/></a>"
      ]
    },
    {
      "cell_type": "code",
      "metadata": {
        "colab": {
          "base_uri": "https://localhost:8080/"
        },
        "id": "UbqrYz4QQNlu",
        "outputId": "edbd8d6e-cafd-48a2-b257-542f5aad3785"
      },
      "source": [
        "for i in range(10):\n",
        "  print(i)\n",
        "print('-----')\n",
        "for i in range(1,11):\n",
        "  print(i)\n",
        "print('-----')\n",
        "for i in range(1,11,2):\n",
        "  print(i)\n",
        "print('-----')\n",
        "for i in range(10,0,-1): #decrementar en el bucle\n",
        "  print(i)\n",
        "print('-----')\n",
        "palabra = \"especialidad\"\n",
        "for car in palabra:\n",
        "  #print(car)\n",
        "  print(car, end=\"+\")"
      ],
      "execution_count": 7,
      "outputs": [
        {
          "output_type": "stream",
          "name": "stdout",
          "text": [
            "0\n",
            "1\n",
            "2\n",
            "3\n",
            "4\n",
            "5\n",
            "6\n",
            "7\n",
            "8\n",
            "9\n",
            "-----\n",
            "1\n",
            "2\n",
            "3\n",
            "4\n",
            "5\n",
            "6\n",
            "7\n",
            "8\n",
            "9\n",
            "10\n",
            "-----\n",
            "1\n",
            "3\n",
            "5\n",
            "7\n",
            "9\n",
            "-----\n",
            "10\n",
            "9\n",
            "8\n",
            "7\n",
            "6\n",
            "5\n",
            "4\n",
            "3\n",
            "2\n",
            "1\n",
            "-----\n",
            "e+s+p+e+c+i+a+l+i+d+a+d+"
          ]
        }
      ]
    },
    {
      "cell_type": "code",
      "metadata": {
        "colab": {
          "base_uri": "https://localhost:8080/"
        },
        "id": "mlLk0ZzNSPkS",
        "outputId": "2f409c2d-ec8d-4e75-d154-c101de7261f2"
      },
      "source": [
        "pow = 1\n",
        "for i in range(11):\n",
        "  pow *= 2\n",
        "  print(pow)\n",
        "\n",
        "sum = 0\n",
        "for i in range(1,11,1):\n",
        "  sum += i\n",
        "print(sum)"
      ],
      "execution_count": 14,
      "outputs": [
        {
          "output_type": "stream",
          "name": "stdout",
          "text": [
            "2\n",
            "4\n",
            "8\n",
            "16\n",
            "32\n",
            "64\n",
            "128\n",
            "256\n",
            "512\n",
            "1024\n",
            "2048\n",
            "55\n"
          ]
        }
      ]
    },
    {
      "cell_type": "code",
      "metadata": {
        "colab": {
          "base_uri": "https://localhost:8080/"
        },
        "id": "8wd6qGRvUOAo",
        "outputId": "e9749bd1-c799-4c51-8f4f-a0a8727ee03f"
      },
      "source": [
        "for i in range(1,11):\n",
        "  if i == 5:\n",
        "    break\n",
        "  print(i, \"Dentro de for\")\n",
        "print(\"Fin\")\n",
        "\n",
        "for i in range(1,11):\n",
        "  if i == 5:\n",
        "    continue\n",
        "  print(i, \"Dentro de for\")\n",
        "print(\"Fin\")"
      ],
      "execution_count": 16,
      "outputs": [
        {
          "output_type": "stream",
          "name": "stdout",
          "text": [
            "1 Dentro de for\n",
            "2 Dentro de for\n",
            "3 Dentro de for\n",
            "4 Dentro de for\n",
            "Fin\n",
            "1 Dentro de for\n",
            "2 Dentro de for\n",
            "3 Dentro de for\n",
            "4 Dentro de for\n",
            "6 Dentro de for\n",
            "7 Dentro de for\n",
            "8 Dentro de for\n",
            "9 Dentro de for\n",
            "10 Dentro de for\n",
            "Fin\n"
          ]
        }
      ]
    },
    {
      "cell_type": "code",
      "metadata": {
        "colab": {
          "base_uri": "https://localhost:8080/"
        },
        "id": "XZ2hhb5SWL3P",
        "outputId": "99af0d60-b7f5-4a41-fc39-797d04527857"
      },
      "source": [
        "i = 1\n",
        "while i <= 10:\n",
        "  print(i)\n",
        "  i += 2\n",
        "else: #se ejecuta siempre\n",
        "  print(i, \"del else\")\n",
        "print(\"Fin\")\n",
        "\n",
        "for i in range(1, 11):\n",
        "  print(i)\n",
        "else:\n",
        "  print(i, 'del for')"
      ],
      "execution_count": 20,
      "outputs": [
        {
          "output_type": "stream",
          "name": "stdout",
          "text": [
            "1\n",
            "3\n",
            "5\n",
            "7\n",
            "9\n",
            "11 del else\n",
            "Fin\n",
            "1\n",
            "2\n",
            "3\n",
            "4\n",
            "5\n",
            "6\n",
            "7\n",
            "8\n",
            "9\n",
            "10\n",
            "10 del for\n"
          ]
        }
      ]
    },
    {
      "cell_type": "code",
      "metadata": {
        "colab": {
          "base_uri": "https://localhost:8080/"
        },
        "id": "3UF4I2hDQOH7",
        "outputId": "564eb75f-a40d-40e2-ca53-9f7fafb43409"
      },
      "source": [
        "oct = int(input('Primer Octeto: '))\n",
        "if oct >= 0 and oct < 128: #para optimizar es mejor poner < 128 en lugar de  <= 127\n",
        "  print('A')\n",
        "elif oct >= 128 and oct < 192:\n",
        "  print('B')\n",
        "elif oct >= 192 and oct < 224:\n",
        "  print('C')\n",
        "else:\n",
        "  print('red experimental')"
      ],
      "execution_count": 23,
      "outputs": [
        {
          "output_type": "stream",
          "name": "stdout",
          "text": [
            "Primer Octeto: 128\n",
            "B\n"
          ]
        }
      ]
    },
    {
      "cell_type": "code",
      "metadata": {
        "colab": {
          "base_uri": "https://localhost:8080/"
        },
        "id": "UsaXfrD2ZqwO",
        "outputId": "e366bcef-9f44-44ac-8484-ecb4d6ff1198"
      },
      "source": [
        "#bitwise\n",
        "i = 15\n",
        "j = 22\n",
        "r = i & j\n",
        "print(i, bin(i))\n",
        "print(j, bin(j))\n",
        "print(r, bin(r))"
      ],
      "execution_count": 25,
      "outputs": [
        {
          "output_type": "stream",
          "name": "stdout",
          "text": [
            "15 0b1111\n",
            "22 0b10110\n",
            "6 0b110\n"
          ]
        }
      ]
    },
    {
      "cell_type": "code",
      "metadata": {
        "colab": {
          "base_uri": "https://localhost:8080/"
        },
        "id": "m9Q4Q1LochNy",
        "outputId": "a496715d-8499-4cf7-f76c-1196cb030d4a"
      },
      "source": [
        "a,b,c,d = 20,21,22,23\n",
        "res = a & b & c & d\n",
        "print(res)"
      ],
      "execution_count": 26,
      "outputs": [
        {
          "output_type": "stream",
          "name": "stdout",
          "text": [
            "20\n"
          ]
        }
      ]
    },
    {
      "cell_type": "code",
      "metadata": {
        "colab": {
          "base_uri": "https://localhost:8080/"
        },
        "id": "Rx83i6y5dPHK",
        "outputId": "d27b2f31-a7fb-48c1-9f83-07e8deb072a7"
      },
      "source": [
        "a = 25\n",
        "b = ~a #~ negacion en ASCII es alt + 126\n",
        "print(a, bin(a))\n",
        "print(b, bin(b))\n",
        "\n",
        "x = 17\n",
        "derecha = x >> 1\n",
        "izquierda = x << 2\n",
        "print(x, bin(x))\n",
        "print(derecha, bin(derecha))\n",
        "print(izquierda, bin(izquierda))"
      ],
      "execution_count": 29,
      "outputs": [
        {
          "output_type": "stream",
          "name": "stdout",
          "text": [
            "25 0b11001\n",
            "-26 -0b11010\n",
            "17 0b10001\n",
            "8 0b1000\n",
            "68 0b1000100\n"
          ]
        }
      ]
    },
    {
      "cell_type": "code",
      "metadata": {
        "colab": {
          "base_uri": "https://localhost:8080/"
        },
        "id": "8_nun2BFf8n3",
        "outputId": "0de24b94-4087-466d-83f8-bf00b182a834"
      },
      "source": [
        "#listas\n",
        "lista_variable = ['hola', 27, 3.1415, True, False]\n",
        "print(lista_variable)\n",
        "\n",
        "lista_numeros = [20, 30, 5, 7, 13, 25, 67]\n",
        "print(lista_numeros)\n",
        "print(lista_numeros[2]) #los indices empiezan en 0\n",
        "print(lista_numeros[-5]) #indices negativos empiezan en -1\n",
        "print(len(lista_numeros)) #longitud\n",
        "del lista_numeros[4] #eliminar\n",
        "print(lista_numeros)\n",
        "print(len(lista_numeros))"
      ],
      "execution_count": 35,
      "outputs": [
        {
          "output_type": "stream",
          "name": "stdout",
          "text": [
            "['hola', 27, 3.1415, True, False]\n",
            "[20, 30, 5, 7, 13, 25, 67]\n",
            "5\n",
            "5\n",
            "7\n",
            "[20, 30, 5, 7, 25, 67]\n",
            "6\n"
          ]
        }
      ]
    },
    {
      "cell_type": "code",
      "metadata": {
        "colab": {
          "base_uri": "https://localhost:8080/"
        },
        "id": "AewCKDyOi4Rt",
        "outputId": "b8271ef2-4c18-4a65-b61f-f8c85a6e937f"
      },
      "source": [
        "lista_numeros = [20, 30, 5, 7, 13, 25, 67]\n",
        "print(lista_numeros)\n",
        "lista_numeros.append(95) #inserta al final\n",
        "print(lista_numeros)\n",
        "lista_numeros.insert(3,100) #inserta en la pocision 3\n",
        "print(lista_numeros)"
      ],
      "execution_count": 36,
      "outputs": [
        {
          "output_type": "stream",
          "name": "stdout",
          "text": [
            "[20, 30, 5, 7, 13, 25, 67]\n",
            "[20, 30, 5, 7, 13, 25, 67, 95]\n",
            "[20, 30, 5, 100, 7, 13, 25, 67, 95]\n"
          ]
        }
      ]
    },
    {
      "cell_type": "code",
      "metadata": {
        "colab": {
          "base_uri": "https://localhost:8080/"
        },
        "id": "YhwYstX6kdrc",
        "outputId": "8b1a8905-4a09-4e78-8236-ffebf5c6741b"
      },
      "source": [
        "miLista = [] #lista vacia\n",
        "for i in range(5):\n",
        "  miLista.insert(0, i + 1) #lista vacia en forma descendente\n",
        "print(miLista)"
      ],
      "execution_count": 38,
      "outputs": [
        {
          "output_type": "stream",
          "name": "stdout",
          "text": [
            "[5, 4, 3, 2, 1]\n"
          ]
        }
      ]
    },
    {
      "cell_type": "code",
      "metadata": {
        "colab": {
          "base_uri": "https://localhost:8080/"
        },
        "id": "ytxyo6FJl3zF",
        "outputId": "4e02b0ac-b48c-453c-b3b3-6340953c7ace"
      },
      "source": [
        "hostnames = ['router1','router2','router3','router4','router5','router6']\n",
        "for h in hostnames:\n",
        "  print(h)\n",
        "sum = 0\n",
        "loct = [10,20,30,40,55]\n",
        "for i in loct:\n",
        "  sum +=i\n",
        "print(sum)"
      ],
      "execution_count": 40,
      "outputs": [
        {
          "output_type": "stream",
          "name": "stdout",
          "text": [
            "router1\n",
            "router2\n",
            "router3\n",
            "router4\n",
            "router5\n",
            "router6\n",
            "155\n"
          ]
        }
      ]
    }
  ]
}