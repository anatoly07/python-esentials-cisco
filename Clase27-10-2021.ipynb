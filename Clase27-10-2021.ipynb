{
  "nbformat": 4,
  "nbformat_minor": 0,
  "metadata": {
    "colab": {
      "name": "Untitled0.ipynb",
      "provenance": [],
      "authorship_tag": "ABX9TyMxjqqlB+cpxDy2ug3mX9Nf",
      "include_colab_link": true
    },
    "kernelspec": {
      "name": "python3",
      "display_name": "Python 3"
    },
    "language_info": {
      "name": "python"
    }
  },
  "cells": [
    {
      "cell_type": "markdown",
      "metadata": {
        "id": "view-in-github",
        "colab_type": "text"
      },
      "source": [
        "<a href=\"https://colab.research.google.com/github/anatoly07/python-esentials-cisco/blob/main/Clase27-10-2021.ipynb\" target=\"_parent\"><img src=\"https://colab.research.google.com/assets/colab-badge.svg\" alt=\"Open In Colab\"/></a>"
      ]
    },
    {
      "cell_type": "code",
      "metadata": {
        "colab": {
          "base_uri": "https://localhost:8080/"
        },
        "id": "QmEBhVK2Rx4f",
        "outputId": "6dab9356-dc7e-4252-9d72-c811b1782b8a"
      },
      "source": [
        "print(-.7)\n",
        "print(10+3*2)\n",
        "print(30%6%2) #den derecha a izq\n",
        "print(2**2**3) # dedercha a izq"
      ],
      "execution_count": null,
      "outputs": [
        {
          "output_type": "stream",
          "name": "stdout",
          "text": [
            "-0.7\n",
            "16\n",
            "0\n",
            "256\n"
          ]
        }
      ]
    },
    {
      "cell_type": "code",
      "metadata": {
        "colab": {
          "base_uri": "https://localhost:8080/"
        },
        "id": "rkkHjjs7Upgn",
        "outputId": "4513e6ab-e7dd-41cb-ffa9-4cbd0cab12af"
      },
      "source": [
        "x = 7.3\n",
        "print(type(x))\n",
        "#5.2 = x\n",
        "y = x\n",
        "x = -60\n",
        "print(y)\n",
        "print(type(x))\n",
        "x = 'hola'\n",
        "print(x)\n",
        "print(type(x))"
      ],
      "execution_count": null,
      "outputs": [
        {
          "output_type": "stream",
          "name": "stdout",
          "text": [
            "<class 'float'>\n",
            "7.3\n",
            "<class 'int'>\n",
            "hola\n",
            "<class 'str'>\n"
          ]
        }
      ]
    },
    {
      "cell_type": "code",
      "metadata": {
        "colab": {
          "base_uri": "https://localhost:8080/"
        },
        "id": "YH5K1EpcWqOO",
        "outputId": "06398f29-05b0-43e4-90cb-6e181c204bfa"
      },
      "source": [
        "mivariableestaunpocolarga = \"Pedrito\" #nombre de var muy larga no recomendable\n",
        "print(mivariableestaunpocolarga)\n",
        "otra = \"Pepito\"\n",
        "#otravar = juanito\n",
        "fecha_de_aniversario = \"16 de agosto de 2003\"\n",
        "año = 2001 #no se recomienda\n",
        "anio = 2001  \n",
        "nombre = \"Juan\"\n",
        "nOMBRE = \"Pedro\"\n",
        "nombrE = \"Jose\"\n",
        "print(nombre)\n",
        "print(nOMBRE)\n",
        "print(nombrE)\n",
        "_auxiliar = \"12\""
      ],
      "execution_count": null,
      "outputs": [
        {
          "output_type": "stream",
          "name": "stdout",
          "text": [
            "Pedrito\n",
            "Juan\n",
            "Pedro\n",
            "Jose\n"
          ]
        }
      ]
    },
    {
      "cell_type": "code",
      "metadata": {
        "colab": {
          "base_uri": "https://localhost:8080/"
        },
        "id": "71KxFUXjZCsu",
        "outputId": "649dc8c0-e61e-4db7-db18-c30f382b39b0"
      },
      "source": [
        "aux = 7\n",
        "print = 45 # no debemos asignar valores a palabras reservadas del sistema\n",
        "#print(aux)\n",
        "del print\n",
        "print(aux)\n",
        "help()"
      ],
      "execution_count": null,
      "outputs": [
        {
          "output_type": "stream",
          "name": "stdout",
          "text": [
            "7\n",
            "\n",
            "Welcome to Python 3.7's help utility!\n",
            "\n",
            "If this is your first time using Python, you should definitely check out\n",
            "the tutorial on the Internet at https://docs.python.org/3.7/tutorial/.\n",
            "\n",
            "Enter the name of any module, keyword, or topic to get help on writing\n",
            "Python programs and using Python modules.  To quit this help utility and\n",
            "return to the interpreter, just type \"quit\".\n",
            "\n",
            "To get a list of available modules, keywords, symbols, or topics, type\n",
            "\"modules\", \"keywords\", \"symbols\", or \"topics\".  Each module also comes\n",
            "with a one-line summary of what it does; to list the modules whose name\n",
            "or summary contain a given string such as \"spam\", type \"modules spam\".\n",
            "\n",
            "help> keywords\n",
            "\n",
            "Here is a list of the Python keywords.  Enter any keyword to get more help.\n",
            "\n",
            "False               class               from                or\n",
            "None                continue            global              pass\n",
            "True                def                 if                  raise\n",
            "and                 del                 import              return\n",
            "as                  elif                in                  try\n",
            "assert              else                is                  while\n",
            "async               except              lambda              with\n",
            "await               finally             nonlocal            yield\n",
            "break               for                 not                 \n",
            "\n",
            "help> symbols\n",
            "\n",
            "Here is a list of the punctuation symbols which Python assigns special meaning\n",
            "to. Enter any symbol to get more help.\n",
            "\n",
            "!=                  +                   <=                  __\n",
            "\"                   +=                  <>                  `\n",
            "\"\"\"                 ,                   ==                  b\"\n",
            "%                   -                   >                   b'\n",
            "%=                  -=                  >=                  f\"\n",
            "&                   .                   >>                  f'\n",
            "&=                  ...                 >>=                 j\n",
            "'                   /                   @                   r\"\n",
            "'''                 //                  J                   r'\n",
            "(                   //=                 [                   u\"\n",
            ")                   /=                  \\                   u'\n",
            "*                   :                   ]                   |\n",
            "**                  <                   ^                   |=\n",
            "**=                 <<                  ^=                  ~\n",
            "*=                  <<=                 _                   \n",
            "\n",
            "\n",
            "You are now leaving help and returning to the Python interpreter.\n",
            "If you want to ask for help on a particular object directly from the\n",
            "interpreter, you can type \"help(object)\".  Executing \"help('string')\"\n",
            "has the same effect as typing a particular string at the help> prompt.\n"
          ]
        }
      ]
    },
    {
      "cell_type": "code",
      "metadata": {
        "colab": {
          "base_uri": "https://localhost:8080/"
        },
        "id": "Xko3OH12ahUB",
        "outputId": "d29206b7-2a00-4b1b-8c98-6c018296c01e"
      },
      "source": [
        "hostname = \"SW1\"\n",
        "banner = \"\\n\\n\\n BIENVENIDO AL SWITCH1 DEL PISO 3 DEL EDIFICIO DAF \\n\\n\\n\"\n",
        "descripcion = \"Prohibido el acceso a Personal No Autorizado\"\n",
        "ipaddress = '192.168.10.1'\n",
        "descripcion_ip = descripcion + \" \" + ipaddress\n",
        "print(hostname)\n",
        "print(banner)\n",
        "print(descripcion_ip)\n",
        "cadena1 ='hola'\n",
        "cadena2='hola2'"
      ],
      "execution_count": null,
      "outputs": [
        {
          "output_type": "stream",
          "name": "stdout",
          "text": [
            "SW1\n",
            "\n",
            "\n",
            "\n",
            " BIENVENIDO AL SWITCH1 DEL PISO 3 DEL EDIFICIO DAF \n",
            "\n",
            "\n",
            "\n",
            "Prohibido el acceso a Personal No Autorizado 192.168.10.1\n"
          ]
        }
      ]
    },
    {
      "cell_type": "code",
      "metadata": {
        "colab": {
          "base_uri": "https://localhost:8080/"
        },
        "id": "3mRDXI0kc-ZS",
        "outputId": "a8f31cce-d262-4bcc-d36c-768baedb628b"
      },
      "source": [
        "print(\"Introduzca el nombre del host\")\n",
        "namehost = input()\n",
        "print(\"El nombre de host es \", namehost)\n",
        "print(type(namehost))"
      ],
      "execution_count": null,
      "outputs": [
        {
          "output_type": "stream",
          "name": "stdout",
          "text": [
            "Introduzca el nombre del host\n",
            "maluma\n",
            "El nombre de host es  maluma\n",
            "<class 'str'>\n"
          ]
        }
      ]
    },
    {
      "cell_type": "code",
      "metadata": {
        "colab": {
          "base_uri": "https://localhost:8080/"
        },
        "id": "WK8rgtbNeJ7P",
        "outputId": "e495d0c9-21db-4dad-b0d8-b8192727a798"
      },
      "source": [
        "namehost = input(\"Digite el nombre de host \\n\")\n",
        "print(\"El nombre de host es: \", namehost)"
      ],
      "execution_count": null,
      "outputs": [
        {
          "output_type": "stream",
          "name": "stdout",
          "text": [
            "Digite el nombre de host \n",
            "Server\n",
            "El nombre de host es:  Server\n"
          ]
        }
      ]
    },
    {
      "cell_type": "code",
      "metadata": {
        "colab": {
          "base_uri": "https://localhost:8080/"
        },
        "id": "i0BgpHEbe4Rj",
        "outputId": "7fad1a31-236e-4e12-b781-a4d314ee65e8"
      },
      "source": [
        "#conversion de tipos\n",
        "base = int(input(\"Base: \"))\n",
        "exponente = int(input(\"Exponente: \"))\n",
        "potencia = base**exponente\n",
        "#potencia = int(base)**int(exponente)\n",
        "print(\"Resultado: \", potencia)"
      ],
      "execution_count": null,
      "outputs": [
        {
          "output_type": "stream",
          "name": "stdout",
          "text": [
            "Base: 2\n",
            "Exponente: 3\n",
            "Resultado:  8\n"
          ]
        }
      ]
    },
    {
      "cell_type": "code",
      "metadata": {
        "colab": {
          "base_uri": "https://localhost:8080/"
        },
        "id": "ji3KVXEShbu1",
        "outputId": "14e8112d-cd8e-42d4-f73b-eeaf59f5a6e6"
      },
      "source": [
        "#concatenacion de cadenas + y *\n",
        "cadena1 = \"Jose\"\n",
        "cadena2 = \"Manuel\"\n",
        "cadena3 = cadena1 + cadena2\n",
        "print(cadena1,cadena2)\n",
        "print(cadena3)"
      ],
      "execution_count": null,
      "outputs": [
        {
          "output_type": "stream",
          "name": "stdout",
          "text": [
            "Jose Manuel\n",
            "JoseManuel\n"
          ]
        }
      ]
    },
    {
      "cell_type": "code",
      "metadata": {
        "colab": {
          "base_uri": "https://localhost:8080/"
        },
        "id": "ZexcKorwi_rN",
        "outputId": "b4eeb196-d6a9-4b06-db9d-b9331d3a0138"
      },
      "source": [
        "aux = 192\n",
        "cadena = \"Primer Octeto: \" + str(aux) \n",
        "#print(cadena, aux)\n",
        "print(cadena)"
      ],
      "execution_count": null,
      "outputs": [
        {
          "output_type": "stream",
          "name": "stdout",
          "text": [
            "Primer Octeto: 192\n"
          ]
        }
      ]
    },
    {
      "cell_type": "code",
      "metadata": {
        "colab": {
          "base_uri": "https://localhost:8080/"
        },
        "id": "1MHzXokgjleD",
        "outputId": "cca27d8b-0464-4af6-dbc0-c9ce640a3da2"
      },
      "source": [
        "#replicacion\n",
        "#replicar = 30*\"oso\"\n",
        "#print(replicar)\n",
        "num = int(input())\n",
        "print(\"+\" + num*\"-\" + \"+\")\n",
        "print((\"!\" + num*\" \" + \"!\\n\")*(num//2), end = \"\")\n",
        "print(\"+\" + num*\"-\" + \"+\")"
      ],
      "execution_count": null,
      "outputs": [
        {
          "output_type": "stream",
          "name": "stdout",
          "text": [
            "50\n",
            "+--------------------------------------------------+\n",
            "!                                                  !\n",
            "!                                                  !\n",
            "!                                                  !\n",
            "!                                                  !\n",
            "!                                                  !\n",
            "!                                                  !\n",
            "!                                                  !\n",
            "!                                                  !\n",
            "!                                                  !\n",
            "!                                                  !\n",
            "!                                                  !\n",
            "!                                                  !\n",
            "!                                                  !\n",
            "!                                                  !\n",
            "!                                                  !\n",
            "!                                                  !\n",
            "!                                                  !\n",
            "!                                                  !\n",
            "!                                                  !\n",
            "!                                                  !\n",
            "!                                                  !\n",
            "!                                                  !\n",
            "!                                                  !\n",
            "!                                                  !\n",
            "!                                                  !\n",
            "+--------------------------------------------------+\n"
          ]
        }
      ]
    }
  ]
}