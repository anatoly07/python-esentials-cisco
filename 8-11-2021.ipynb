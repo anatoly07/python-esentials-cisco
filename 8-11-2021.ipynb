{
  "nbformat": 4,
  "nbformat_minor": 0,
  "metadata": {
    "colab": {
      "name": "Untitled4.ipynb",
      "provenance": [],
      "authorship_tag": "ABX9TyPGMoc4pSuedGmaxHAWAFX1",
      "include_colab_link": true
    },
    "kernelspec": {
      "name": "python3",
      "display_name": "Python 3"
    },
    "language_info": {
      "name": "python"
    }
  },
  "cells": [
    {
      "cell_type": "markdown",
      "metadata": {
        "id": "view-in-github",
        "colab_type": "text"
      },
      "source": [
        "<a href=\"https://colab.research.google.com/github/anatoly07/python-esentials-cisco/blob/main/8-11-2021.ipynb\" target=\"_parent\"><img src=\"https://colab.research.google.com/assets/colab-badge.svg\" alt=\"Open In Colab\"/></a>"
      ]
    },
    {
      "cell_type": "code",
      "metadata": {
        "id": "oZZbIQHMDaXV"
      },
      "source": [
        "#factorial\n"
      ],
      "execution_count": null,
      "outputs": []
    },
    {
      "cell_type": "code",
      "metadata": {
        "colab": {
          "base_uri": "https://localhost:8080/"
        },
        "id": "DyzbriClDtHi",
        "outputId": "b0c41f50-66d2-4c5a-c40d-fdf88e222fa8"
      },
      "source": [
        "#tuplas y diccionarios\n",
        "\n",
        "listatuplas = (20,45,67,89,100,2)\n",
        "print(listatuplas)\n",
        "print(listatuplas[4])\n",
        "\n",
        "#las tuplas no cambian de valor\n",
        "#listatuplas[4] = 500\n",
        "print(listatuplas[0])\n",
        "print(listatuplas[:])\n",
        "print(listatuplas[3:])\n",
        "print(listatuplas[-1])"
      ],
      "execution_count": 5,
      "outputs": [
        {
          "output_type": "stream",
          "name": "stdout",
          "text": [
            "(20, 45, 67, 89, 100, 2)\n",
            "100\n",
            "20\n",
            "(20, 45, 67, 89, 100, 2)\n",
            "(89, 100, 2)\n",
            "2\n"
          ]
        }
      ]
    },
    {
      "cell_type": "code",
      "metadata": {
        "colab": {
          "base_uri": "https://localhost:8080/"
        },
        "id": "5JWkYcdbF1vh",
        "outputId": "2d6b73c8-aa2b-4e52-f0aa-f14d10e1c136"
      },
      "source": [
        "listaTuplas = (20,45,67,89,[True,2,4,6,6,'oso'],100,2)\n",
        "print(listaTuplas)\n",
        "for v in listaTuplas:\n",
        "  print(v)\n",
        "\n",
        "#el array dentro de la tupla se puede modificar\n",
        "listaTuplas[4][0] = False\n",
        "print(listaTuplas)"
      ],
      "execution_count": 15,
      "outputs": [
        {
          "output_type": "stream",
          "name": "stdout",
          "text": [
            "(20, 45, 67, 89, [True, 2, 4, 6, 6, 'oso'], 100, 2)\n",
            "20\n",
            "45\n",
            "67\n",
            "89\n",
            "[True, 2, 4, 6, 6, 'oso']\n",
            "100\n",
            "2\n",
            "(20, 45, 67, 89, [False, 2, 4, 6, 6, 'oso'], 100, 2)\n"
          ]
        }
      ]
    },
    {
      "cell_type": "code",
      "metadata": {
        "colab": {
          "base_uri": "https://localhost:8080/"
        },
        "id": "LQqM_LBuJN3u",
        "outputId": "539d82ce-7e03-40e1-95cf-340c83a8a274"
      },
      "source": [
        "#las tuplas se pueden sumar,multi a otras, es la excepcion a la inmutabilidad\n",
        "tupla = (35,45,55)\n",
        "tupla1 = tupla + (5,6,7,8,9)\n",
        "tupla2 = tupla * 4\n",
        "print(tupla)\n",
        "print(tupla1)\n",
        "print(tupla2)"
      ],
      "execution_count": 16,
      "outputs": [
        {
          "output_type": "stream",
          "name": "stdout",
          "text": [
            "(35, 45, 55)\n",
            "(35, 45, 55, 5, 6, 7, 8, 9)\n",
            "(35, 45, 55, 35, 45, 55, 35, 45, 55, 35, 45, 55)\n"
          ]
        }
      ]
    },
    {
      "cell_type": "code",
      "metadata": {
        "colab": {
          "base_uri": "https://localhost:8080/"
        },
        "id": "ncMvh7erKarz",
        "outputId": "d68a6e59-bc6f-460c-fd02-474aaddffb4b"
      },
      "source": [
        "#DICCIONARIO\n",
        "diccionario = {'s1':'Switch1', 's2':'Switch2 del edificio', 's3':'Switch3'}\n",
        "diccInt = {'modeloA':1345, 'modeloB':6780}\n",
        "print(diccionario)\n",
        "print(diccInt)\n",
        "#en php todo es diccionario\n",
        "print(diccionario['s2'])"
      ],
      "execution_count": 22,
      "outputs": [
        {
          "output_type": "stream",
          "name": "stdout",
          "text": [
            "{'s1': 'Switch1', 's2': 'Switch2 del edificio', 's3': 'Switch3'}\n",
            "{'modeloA': 1345, 'modeloB': 6780}\n",
            "Switch2 del edificio\n"
          ]
        }
      ]
    },
    {
      "cell_type": "code",
      "metadata": {
        "colab": {
          "base_uri": "https://localhost:8080/"
        },
        "id": "SGanixMaMDZU",
        "outputId": "7976127c-41e8-4279-af55-1f39db25349a"
      },
      "source": [
        "diccionario = {'s1':'Switch1', 's2':'Switch2 del edificio', 's3':'Switch3','s4':'Sw del edificio'}\n",
        "for clave in diccionario:\n",
        "  valor = diccionario[clave]\n",
        "  print(clave, valor)"
      ],
      "execution_count": 31,
      "outputs": [
        {
          "output_type": "stream",
          "name": "stdout",
          "text": [
            "s1 Switch1\n",
            "s2 Switch2 del edificio\n",
            "s3 Switch3\n",
            "s4 Sw del edificio\n"
          ]
        }
      ]
    },
    {
      "cell_type": "code",
      "metadata": {
        "colab": {
          "base_uri": "https://localhost:8080/"
        },
        "id": "K0Wsn0bmNdXa",
        "outputId": "72d9e5e8-6c4f-4885-e1da-78272804b6e4"
      },
      "source": [
        "diccionario = {'s1':'Switch1', 's2':'Switch2 del edificio', 's3':'Switch3','s4':'Sw del edificio'}\n",
        "print(diccionario.keys())\n",
        "print(diccionario.values())\n",
        "\n",
        "for c in diccionario.keys():\n",
        "  print(c, diccionario[c])"
      ],
      "execution_count": 48,
      "outputs": [
        {
          "output_type": "stream",
          "name": "stdout",
          "text": [
            "dict_keys(['s1', 's2', 's3', 's4'])\n",
            "dict_values(['Switch1', 'Switch2 del edificio', 'Switch3', 'Sw del edificio'])\n",
            "s1 Switch1\n",
            "s2 Switch2 del edificio\n",
            "s3 Switch3\n",
            "s4 Sw del edificio\n"
          ]
        }
      ]
    },
    {
      "cell_type": "code",
      "metadata": {
        "colab": {
          "base_uri": "https://localhost:8080/"
        },
        "id": "BRktQyolPjCg",
        "outputId": "71d551d2-fb17-47b1-b0d8-9b3a939e20f5"
      },
      "source": [
        "dict = {\"r1\":\"routerPT\", \"r2\":\"routerCH\", \"r3\":\"routerLP\", \"r4\":\"routerCB\"}\n",
        "words = ['r1','r2','r5']\n",
        "\n",
        "for word in words:\n",
        "  if word in dict: #palabra reservada in\n",
        "    print(word, \"->\", dict[word])\n",
        "  else:\n",
        "    print(word, \"no esta en el diccionario\")"
      ],
      "execution_count": 50,
      "outputs": [
        {
          "output_type": "stream",
          "name": "stdout",
          "text": [
            "r1 -> routerPT\n",
            "r2 -> routerCH\n",
            "r5 no esta en el diccionario\n"
          ]
        }
      ]
    },
    {
      "cell_type": "code",
      "metadata": {
        "colab": {
          "base_uri": "https://localhost:8080/"
        },
        "id": "ng1Is51mRHFE",
        "outputId": "dc07c9b0-3cc0-4698-fedb-15f041a2df9b"
      },
      "source": [
        "diccionario = {'s1':'Switch1', 's2':'Switch2 del edificio', 's3':'Switch3','s4':'Sw del edificio'}\n",
        "#los diccionarios son muutables\n",
        "\n",
        "print(diccionario)\n",
        "diccionario['s1'] = 'SWTCHPTSRC'\n",
        "print(diccionario)\n",
        "del diccionario['s4']\n",
        "print(diccionario)\n",
        "diccionario['s5'] = 'Switch new'\n",
        "print(diccionario)"
      ],
      "execution_count": 59,
      "outputs": [
        {
          "output_type": "stream",
          "name": "stdout",
          "text": [
            "{'s1': 'Switch1', 's2': 'Switch2 del edificio', 's3': 'Switch3', 's4': 'Sw del edificio'}\n",
            "{'s1': 'SWTCHPTSRC', 's2': 'Switch2 del edificio', 's3': 'Switch3', 's4': 'Sw del edificio'}\n",
            "{'s1': 'SWTCHPTSRC', 's2': 'Switch2 del edificio', 's3': 'Switch3'}\n",
            "{'s1': 'SWTCHPTSRC', 's2': 'Switch2 del edificio', 's3': 'Switch3', 's5': 'Switch new'}\n"
          ]
        }
      ]
    },
    {
      "cell_type": "code",
      "metadata": {
        "colab": {
          "base_uri": "https://localhost:8080/"
        },
        "id": "m2qADuV6R0MW",
        "outputId": "8acd41bd-6059-4182-b6ee-2ad697c69f1e"
      },
      "source": [
        "tuplaLoca = ([0, 1, (2, 3)], 1, 2)\n",
        "print(tuplaLoca)\n",
        "tuplaLoca[0][2] = (4,5)\n",
        "print(tuplaLoca)"
      ],
      "execution_count": 66,
      "outputs": [
        {
          "output_type": "stream",
          "name": "stdout",
          "text": [
            "([0, 1, (2, 3)], 1, 2)\n",
            "([0, 1, (4, 5)], 1, 2)\n"
          ]
        }
      ]
    },
    {
      "cell_type": "code",
      "metadata": {
        "colab": {
          "base_uri": "https://localhost:8080/"
        },
        "id": "_9W9-LNvGEb3",
        "outputId": "06468267-4693-451f-efff-106a9c5d32fc"
      },
      "source": [
        "\"\"\"Python\n",
        "Indent\n",
        "Rainbow\n",
        "Python\n",
        "indent\n",
        "Python\"\"\"\n",
        "\n",
        "#plugins for VSCode"
      ],
      "execution_count": 41,
      "outputs": [
        {
          "output_type": "stream",
          "name": "stdout",
          "text": [
            "{(4, 5, 6), (7, 8, 9), (1, 2, 3)}\n"
          ]
        }
      ]
    },
    {
      "cell_type": "code",
      "metadata": {
        "colab": {
          "base_uri": "https://localhost:8080/"
        },
        "id": "MWqj9UgFWLnq",
        "outputId": "4510691d-a509-45ce-e077-93fa4811850d"
      },
      "source": [
        "#importaciones en python\n",
        "import math\n",
        "print(\"PI:\", math.pi)\n",
        "print(\"E:\", math.e)"
      ],
      "execution_count": 72,
      "outputs": [
        {
          "output_type": "stream",
          "name": "stdout",
          "text": [
            "PI: 3.141592653589793\n",
            "E: 2.718281828459045\n"
          ]
        }
      ]
    },
    {
      "cell_type": "code",
      "metadata": {
        "colab": {
          "base_uri": "https://localhost:8080/"
        },
        "id": "tGxcTlTrXXMp",
        "outputId": "ab8839d6-3b53-4f4b-814c-f71f1bfd2132"
      },
      "source": [
        "#para hacer una importacion especifica\n",
        "from math import pi\n",
        "print(\"PI:\", pi)\n",
        "print(\"E:\", e)"
      ],
      "execution_count": 83,
      "outputs": [
        {
          "output_type": "stream",
          "name": "stdout",
          "text": [
            "PI: 3.141592653589793\n",
            "E: 2.718281828459045\n"
          ]
        }
      ]
    },
    {
      "cell_type": "code",
      "metadata": {
        "colab": {
          "base_uri": "https://localhost:8080/"
        },
        "id": "vzaNCUELYiBw",
        "outputId": "c8869245-ae39-4bc9-aaba-6618279aeeaa"
      },
      "source": [
        "from math import pi as PI\n",
        "print(\"PI:\", PI)"
      ],
      "execution_count": 82,
      "outputs": [
        {
          "output_type": "stream",
          "name": "stdout",
          "text": [
            "PI: 3.141592653589793\n"
          ]
        }
      ]
    },
    {
      "cell_type": "code",
      "metadata": {
        "colab": {
          "base_uri": "https://localhost:8080/"
        },
        "id": "WV8K6T9mZAhH",
        "outputId": "90c58073-e9de-4610-b831-a9d823d80eeb"
      },
      "source": [
        "import math as ma\n",
        "print(\"PI:\", ma.pi)\n",
        "print(\"E:\", ma.e)"
      ],
      "execution_count": 85,
      "outputs": [
        {
          "output_type": "stream",
          "name": "stdout",
          "text": [
            "PI: 3.141592653589793\n",
            "E: 2.718281828459045\n"
          ]
        }
      ]
    },
    {
      "cell_type": "code",
      "metadata": {
        "colab": {
          "base_uri": "https://localhost:8080/"
        },
        "id": "WK_yNGhZZfCo",
        "outputId": "af6aed48-f4ad-44c3-ef26-2d9c3387b596"
      },
      "source": [
        "import math\n",
        "for comando in dir(math): #dir permite listar\n",
        "  print(comando)\n",
        "print(math.factorial(100))"
      ],
      "execution_count": 87,
      "outputs": [
        {
          "output_type": "stream",
          "name": "stdout",
          "text": [
            "__doc__\n",
            "__loader__\n",
            "__name__\n",
            "__package__\n",
            "__spec__\n",
            "acos\n",
            "acosh\n",
            "asin\n",
            "asinh\n",
            "atan\n",
            "atan2\n",
            "atanh\n",
            "ceil\n",
            "copysign\n",
            "cos\n",
            "cosh\n",
            "degrees\n",
            "e\n",
            "erf\n",
            "erfc\n",
            "exp\n",
            "expm1\n",
            "fabs\n",
            "factorial\n",
            "floor\n",
            "fmod\n",
            "frexp\n",
            "fsum\n",
            "gamma\n",
            "gcd\n",
            "hypot\n",
            "inf\n",
            "isclose\n",
            "isfinite\n",
            "isinf\n",
            "isnan\n",
            "ldexp\n",
            "lgamma\n",
            "log\n",
            "log10\n",
            "log1p\n",
            "log2\n",
            "modf\n",
            "nan\n",
            "pi\n",
            "pow\n",
            "radians\n",
            "remainder\n",
            "sin\n",
            "sinh\n",
            "sqrt\n",
            "tan\n",
            "tanh\n",
            "tau\n",
            "trunc\n",
            "93326215443944152681699238856266700490715968264381621468592963895217599993229915608941463976156518286253697920827223758251185210916864000000000000000000000000\n"
          ]
        }
      ]
    }
  ]
}